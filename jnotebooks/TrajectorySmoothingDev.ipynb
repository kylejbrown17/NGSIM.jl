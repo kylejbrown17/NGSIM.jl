{
 "cells": [
  {
   "cell_type": "code",
   "execution_count": null,
   "metadata": {},
   "outputs": [],
   "source": [
    "using NGSIM\n",
    "import PyPlot"
   ]
  },
  {
   "cell_type": "code",
   "execution_count": null,
   "metadata": {},
   "outputs": [],
   "source": [
    "dt = 0.1\n",
    "t = collect(0:dt:10)\n",
    "# X = hcat((t+5).*sin.(t),(t+5).*cos.(t))\n",
    "X = hcat(t,t)\n",
    "# dt = 1.0\n",
    "# t = collect(0:dt:100)\n",
    "# X = hcat((t/10+5).*sin.(t/10),(t/10+5).*cos.(t/10))\n",
    "PyPlot.plot(X[:,1],X[:,2],label=\"true\")\n",
    "# noise = hcat(rand(length(t))-.5,rand(length(t))-.5)\n",
    "# X = X + noise\n",
    "PyPlot.plot(X[:,1],X[:,2],label=\"noisy\")\n",
    "Xs = locally_weighted_regression_smoothing(X,t,t,2;σ=4.0,λ=0.0,threshold=0.0001)\n",
    "PyPlot.plot(Xs[:,1],Xs[:,2],label=\"smoothed\")\n",
    "PyPlot.legend()\n",
    "PyPlot.axis(\"equal\")\n",
    "PyPlot.show()"
   ]
  },
  {
   "cell_type": "code",
   "execution_count": null,
   "metadata": {},
   "outputs": [],
   "source": []
  }
 ],
 "metadata": {
  "kernelspec": {
   "display_name": "Julia 0.6.4",
   "language": "julia",
   "name": "julia-0.6"
  },
  "language_info": {
   "file_extension": ".jl",
   "mimetype": "application/julia",
   "name": "julia",
   "version": "0.6.4"
  }
 },
 "nbformat": 4,
 "nbformat_minor": 2
}
